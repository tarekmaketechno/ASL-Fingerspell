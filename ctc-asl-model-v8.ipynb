{
 "cells": [
  {
   "cell_type": "code",
   "execution_count": 1,
   "id": "5b5edc42",
   "metadata": {
    "execution": {
     "iopub.execute_input": "2023-08-18T10:21:37.181373Z",
     "iopub.status.busy": "2023-08-18T10:21:37.180901Z",
     "iopub.status.idle": "2023-08-18T10:21:45.020270Z",
     "shell.execute_reply": "2023-08-18T10:21:45.019247Z"
    },
    "papermill": {
     "duration": 7.853,
     "end_time": "2023-08-18T10:21:45.023153",
     "exception": false,
     "start_time": "2023-08-18T10:21:37.170153",
     "status": "completed"
    },
    "tags": []
   },
   "outputs": [
    {
     "name": "stderr",
     "output_type": "stream",
     "text": [
      "/opt/conda/lib/python3.10/site-packages/scipy/__init__.py:146: UserWarning: A NumPy version >=1.16.5 and <1.23.0 is required for this version of SciPy (detected version 1.23.5\n",
      "  warnings.warn(f\"A NumPy version >={np_minversion} and <{np_maxversion}\"\n",
      "/opt/conda/lib/python3.10/site-packages/tensorflow_io/python/ops/__init__.py:98: UserWarning: unable to load libtensorflow_io_plugins.so: unable to open file: libtensorflow_io_plugins.so, from paths: ['/opt/conda/lib/python3.10/site-packages/tensorflow_io/python/ops/libtensorflow_io_plugins.so']\n",
      "caused by: ['/opt/conda/lib/python3.10/site-packages/tensorflow_io/python/ops/libtensorflow_io_plugins.so: undefined symbol: _ZN3tsl6StatusC1EN10tensorflow5error4CodeESt17basic_string_viewIcSt11char_traitsIcEENS_14SourceLocationE']\n",
      "  warnings.warn(f\"unable to load libtensorflow_io_plugins.so: {e}\")\n",
      "/opt/conda/lib/python3.10/site-packages/tensorflow_io/python/ops/__init__.py:104: UserWarning: file system plugins are not loaded: unable to open file: libtensorflow_io.so, from paths: ['/opt/conda/lib/python3.10/site-packages/tensorflow_io/python/ops/libtensorflow_io.so']\n",
      "caused by: ['/opt/conda/lib/python3.10/site-packages/tensorflow_io/python/ops/libtensorflow_io.so: undefined symbol: _ZTVN10tensorflow13GcsFileSystemE']\n",
      "  warnings.warn(f\"file system plugins are not loaded: {e}\")\n"
     ]
    }
   ],
   "source": [
    "import os \n",
    "os.environ['TF_CPP_MIN_LOG_LEVEL'] = '2'\n",
    "os.environ['TF_ENABLE_AUTO_GC'] = '1'\n",
    "\n",
    "import gc\n",
    "import pandas as pd\n",
    "import numpy as np\n",
    "import tensorflow as tf\n",
    "from tensorflow import keras\n",
    "from tensorflow.keras import layers\n",
    "import pathlib\n",
    "import json\n",
    "import shutil\n",
    "\n",
    "# from itertools import cycle, chain\n",
    "from collections import namedtuple\n"
   ]
  },
  {
   "cell_type": "code",
   "execution_count": 2,
   "id": "e75ceb1d",
   "metadata": {
    "execution": {
     "iopub.execute_input": "2023-08-18T10:21:45.042330Z",
     "iopub.status.busy": "2023-08-18T10:21:45.041680Z",
     "iopub.status.idle": "2023-08-18T10:21:45.047366Z",
     "shell.execute_reply": "2023-08-18T10:21:45.046325Z"
    },
    "papermill": {
     "duration": 0.017965,
     "end_time": "2023-08-18T10:21:45.050244",
     "exception": false,
     "start_time": "2023-08-18T10:21:45.032279",
     "status": "completed"
    },
    "tags": []
   },
   "outputs": [],
   "source": [
    "data_path = '/kaggle/input/asl-fingerspelling'\n",
    "metadata_file = data_path + '/train.csv'\n",
    "sequence_path = data_path + '/train_landmarks'\n",
    "supplemental_path = data_path + '/supplemental_landmarks'\n",
    "supplemental_meta = data_path + '/supplemental_metadata.csv'\n",
    "\n",
    "output_path = '/kaggle/working'\n",
    "train_tfr_path = output_path + '/train_tfr'\n",
    "supplemental_tfr_path = output_path + '/supplemental_tfr'"
   ]
  },
  {
   "cell_type": "code",
   "execution_count": 3,
   "id": "13e8d003",
   "metadata": {
    "execution": {
     "iopub.execute_input": "2023-08-18T10:21:45.067991Z",
     "iopub.status.busy": "2023-08-18T10:21:45.067683Z",
     "iopub.status.idle": "2023-08-18T10:21:45.074417Z",
     "shell.execute_reply": "2023-08-18T10:21:45.073551Z"
    },
    "papermill": {
     "duration": 0.018113,
     "end_time": "2023-08-18T10:21:45.076573",
     "exception": false,
     "start_time": "2023-08-18T10:21:45.058460",
     "status": "completed"
    },
    "tags": []
   },
   "outputs": [],
   "source": [
    "def make_path(pth):\n",
    "    if not os.path.isdir(pth):\n",
    "        os.mkdir(pth)\n",
    "    else:\n",
    "        shutil.rmtree(pth)\n",
    "        os.mkdir(pth)\n",
    "\n",
    "make_path(train_tfr_path)\n",
    "make_path(supplemental_tfr_path)"
   ]
  },
  {
   "cell_type": "code",
   "execution_count": 4,
   "id": "afae4b8d",
   "metadata": {
    "execution": {
     "iopub.execute_input": "2023-08-18T10:21:45.094095Z",
     "iopub.status.busy": "2023-08-18T10:21:45.093801Z",
     "iopub.status.idle": "2023-08-18T10:21:45.099450Z",
     "shell.execute_reply": "2023-08-18T10:21:45.098444Z"
    },
    "papermill": {
     "duration": 0.017016,
     "end_time": "2023-08-18T10:21:45.101776",
     "exception": false,
     "start_time": "2023-08-18T10:21:45.084760",
     "status": "completed"
    },
    "tags": []
   },
   "outputs": [],
   "source": [
    "lh_cols = [f'{i}_left_hand_{j}' for i in ('x', 'y') for j in range(21)]\n",
    "rh_cols = [f'{i}_right_hand_{j}' for i in ('x', 'y') for j in range(21)]\n",
    "pose_cols = [f'{i}_pose_{j}' for i in ('x', 'y') for j in range(33)]\n",
    "\n",
    "selected_cols = lh_cols + rh_cols + pose_cols"
   ]
  },
  {
   "cell_type": "code",
   "execution_count": 5,
   "id": "7ee7a363",
   "metadata": {
    "execution": {
     "iopub.execute_input": "2023-08-18T10:21:45.119783Z",
     "iopub.status.busy": "2023-08-18T10:21:45.119523Z",
     "iopub.status.idle": "2023-08-18T10:21:45.284275Z",
     "shell.execute_reply": "2023-08-18T10:21:45.283234Z"
    },
    "papermill": {
     "duration": 0.176615,
     "end_time": "2023-08-18T10:21:45.286979",
     "exception": false,
     "start_time": "2023-08-18T10:21:45.110364",
     "status": "completed"
    },
    "tags": []
   },
   "outputs": [],
   "source": [
    "metadata = pd.read_csv(metadata_file)\n",
    "metadata = metadata[['path', 'file_id', 'sequence_id', 'phrase']]"
   ]
  },
  {
   "cell_type": "code",
   "execution_count": 6,
   "id": "296566a6",
   "metadata": {
    "execution": {
     "iopub.execute_input": "2023-08-18T10:21:45.305687Z",
     "iopub.status.busy": "2023-08-18T10:21:45.305382Z",
     "iopub.status.idle": "2023-08-18T10:21:45.314954Z",
     "shell.execute_reply": "2023-08-18T10:21:45.314076Z"
    },
    "papermill": {
     "duration": 0.021052,
     "end_time": "2023-08-18T10:21:45.317248",
     "exception": false,
     "start_time": "2023-08-18T10:21:45.296196",
     "status": "completed"
    },
    "tags": []
   },
   "outputs": [],
   "source": [
    "with open(data_path + \"/character_to_prediction_index.json\", 'r') as f:\n",
    "    character_map = json.load(f)\n",
    "    character_map[\"<pad>\"] = 59\n",
    "rev_character_map = {j:i for i,j in character_map.items()}"
   ]
  },
  {
   "cell_type": "code",
   "execution_count": 7,
   "id": "6bd8b050",
   "metadata": {
    "execution": {
     "iopub.execute_input": "2023-08-18T10:21:45.335169Z",
     "iopub.status.busy": "2023-08-18T10:21:45.334856Z",
     "iopub.status.idle": "2023-08-18T10:21:45.345407Z",
     "shell.execute_reply": "2023-08-18T10:21:45.344465Z"
    },
    "papermill": {
     "duration": 0.022107,
     "end_time": "2023-08-18T10:21:45.347555",
     "exception": false,
     "start_time": "2023-08-18T10:21:45.325448",
     "status": "completed"
    },
    "tags": []
   },
   "outputs": [],
   "source": [
    "def convert_to_tfrecord(metadata_file_path, output_path, max_files=4):\n",
    "    metadata = pd.read_csv(metadata_file_path)\n",
    "    metadata = metadata[['path', 'file_id', 'sequence_id', 'phrase']]\n",
    "    metadata = metadata.sample(frac=1).reset_index(drop=True)\n",
    "    \n",
    "    for i, p in enumerate(metadata.path.unique()):\n",
    "        subset = metadata[metadata.path == p]\n",
    "        sequences = pd.read_parquet(data_path + '/' + p, columns=selected_cols).fillna(0)\n",
    "\n",
    "        out_filename = output_path + '/' + str(subset.file_id.iloc[0]) + '.tfrecord'\n",
    "        print(out_filename)\n",
    "\n",
    "        with tf.io.TFRecordWriter(out_filename) as file_writer:\n",
    "            for s in subset.sequence_id.unique():\n",
    "\n",
    "                # handle troublesome short / nonexistent sequences\n",
    "                seq = sequences[sequences.index == s]\n",
    "                if len(seq) < 20:\n",
    "                    continue\n",
    "\n",
    "                meta_row = subset[subset.sequence_id == s]\n",
    "\n",
    "                seq_features = tf.train.FeatureLists(feature_list={col: tf.train.FeatureList(feature=[tf.train.Feature(\n",
    "                    float_list=tf.train.FloatList(value=seq[col]))]) for col in selected_cols})\n",
    "\n",
    "                phrase_feature = tf.train.Features(feature={\"phrase\": tf.train.Feature(int64_list=tf.train.Int64List(\n",
    "                    value=[character_map[c] for c in meta_row.phrase.iloc[0]]))})\n",
    "\n",
    "                example = tf.train.SequenceExample(context=phrase_feature,\n",
    "                                                   feature_lists=seq_features).SerializeToString()\n",
    "\n",
    "                file_writer.write(example)\n",
    "        \n",
    "        if i >= max_files:\n",
    "            return\n",
    "\n"
   ]
  },
  {
   "cell_type": "code",
   "execution_count": 8,
   "id": "c53efa3d",
   "metadata": {
    "execution": {
     "iopub.execute_input": "2023-08-18T10:21:45.365391Z",
     "iopub.status.busy": "2023-08-18T10:21:45.365132Z",
     "iopub.status.idle": "2023-08-18T10:42:40.333172Z",
     "shell.execute_reply": "2023-08-18T10:42:40.332121Z"
    },
    "papermill": {
     "duration": 1254.979678,
     "end_time": "2023-08-18T10:42:40.335738",
     "exception": false,
     "start_time": "2023-08-18T10:21:45.356060",
     "status": "completed"
    },
    "tags": []
   },
   "outputs": [
    {
     "name": "stdout",
     "output_type": "stream",
     "text": [
      "/kaggle/working/train_tfr/939623093.tfrecord\n",
      "/kaggle/working/train_tfr/1865557033.tfrecord\n",
      "/kaggle/working/train_tfr/234418913.tfrecord\n",
      "/kaggle/working/train_tfr/614661748.tfrecord\n",
      "/kaggle/working/train_tfr/1905462118.tfrecord\n",
      "/kaggle/working/train_tfr/527708222.tfrecord\n",
      "/kaggle/working/train_tfr/1320204318.tfrecord\n",
      "/kaggle/working/train_tfr/169560558.tfrecord\n",
      "/kaggle/working/train_tfr/349393104.tfrecord\n",
      "/kaggle/working/train_tfr/5414471.tfrecord\n",
      "/kaggle/working/train_tfr/128822441.tfrecord\n",
      "/kaggle/working/train_tfr/638508439.tfrecord\n",
      "/kaggle/working/train_tfr/1906357076.tfrecord\n",
      "/kaggle/working/train_tfr/1134756332.tfrecord\n",
      "/kaggle/working/train_tfr/388576474.tfrecord\n",
      "/kaggle/working/train_tfr/1662742697.tfrecord\n",
      "/kaggle/working/train_tfr/1019715464.tfrecord\n",
      "/kaggle/working/train_tfr/175396851.tfrecord\n",
      "/kaggle/working/train_tfr/1021040628.tfrecord\n",
      "/kaggle/working/train_tfr/532011803.tfrecord\n",
      "/kaggle/working/train_tfr/1405046009.tfrecord\n",
      "/kaggle/working/train_tfr/1664666588.tfrecord\n",
      "/kaggle/working/train_tfr/1557244878.tfrecord\n",
      "/kaggle/working/train_tfr/2036580525.tfrecord\n",
      "/kaggle/working/train_tfr/522550314.tfrecord\n",
      "/kaggle/working/train_tfr/546816846.tfrecord\n",
      "/kaggle/working/train_tfr/566963657.tfrecord\n",
      "/kaggle/working/train_tfr/495378749.tfrecord\n",
      "/kaggle/working/train_tfr/2118949241.tfrecord\n",
      "/kaggle/working/train_tfr/1643479812.tfrecord\n",
      "/kaggle/working/train_tfr/1647220008.tfrecord\n",
      "/kaggle/working/train_tfr/1497621680.tfrecord\n",
      "/kaggle/working/train_tfr/1552432300.tfrecord\n",
      "/kaggle/working/train_tfr/1133664520.tfrecord\n",
      "/kaggle/working/train_tfr/1099408314.tfrecord\n",
      "/kaggle/working/train_tfr/933868835.tfrecord\n",
      "/kaggle/working/train_tfr/152029243.tfrecord\n",
      "/kaggle/working/train_tfr/1562234637.tfrecord\n",
      "/kaggle/working/train_tfr/1726141437.tfrecord\n",
      "/kaggle/working/train_tfr/1098899348.tfrecord\n",
      "/kaggle/working/train_tfr/1358493307.tfrecord\n",
      "/kaggle/working/train_tfr/296317215.tfrecord\n",
      "/kaggle/working/train_tfr/1365772051.tfrecord\n",
      "/kaggle/working/train_tfr/105143404.tfrecord\n",
      "/kaggle/working/train_tfr/474255203.tfrecord\n",
      "/kaggle/working/train_tfr/683666742.tfrecord\n",
      "/kaggle/working/train_tfr/1920330615.tfrecord\n",
      "/kaggle/working/train_tfr/433948159.tfrecord\n",
      "/kaggle/working/train_tfr/1997878546.tfrecord\n",
      "/kaggle/working/train_tfr/871280215.tfrecord\n",
      "/kaggle/working/train_tfr/1785039512.tfrecord\n",
      "/kaggle/working/train_tfr/649779897.tfrecord\n",
      "/kaggle/working/train_tfr/568753759.tfrecord\n",
      "/kaggle/working/train_tfr/1880177496.tfrecord\n",
      "/kaggle/working/train_tfr/2072296290.tfrecord\n",
      "/kaggle/working/train_tfr/149822653.tfrecord\n",
      "/kaggle/working/train_tfr/425182931.tfrecord\n",
      "/kaggle/working/train_tfr/654436541.tfrecord\n",
      "/kaggle/working/train_tfr/450474571.tfrecord\n",
      "/kaggle/working/train_tfr/2026717426.tfrecord\n",
      "/kaggle/working/train_tfr/1969985709.tfrecord\n",
      "/kaggle/working/train_tfr/1255240050.tfrecord\n",
      "/kaggle/working/train_tfr/2072876091.tfrecord\n",
      "/kaggle/working/train_tfr/1341528257.tfrecord\n",
      "/kaggle/working/train_tfr/882979387.tfrecord\n",
      "/kaggle/working/train_tfr/1967755728.tfrecord\n",
      "/kaggle/working/train_tfr/1365275733.tfrecord\n",
      "/kaggle/working/train_tfr/1448136004.tfrecord\n"
     ]
    }
   ],
   "source": [
    "convert_to_tfrecord(metadata_file, train_tfr_path, max_files = 100)\n",
    "# convert_to_tfrecord(supplemental_meta, supplemental_tfr_path, max_files = 100)"
   ]
  },
  {
   "cell_type": "code",
   "execution_count": 9,
   "id": "67968656",
   "metadata": {
    "execution": {
     "iopub.execute_input": "2023-08-18T10:42:40.365241Z",
     "iopub.status.busy": "2023-08-18T10:42:40.363551Z",
     "iopub.status.idle": "2023-08-18T10:42:40.370853Z",
     "shell.execute_reply": "2023-08-18T10:42:40.369545Z"
    },
    "papermill": {
     "duration": 0.023971,
     "end_time": "2023-08-18T10:42:40.373101",
     "exception": false,
     "start_time": "2023-08-18T10:42:40.349130",
     "status": "completed"
    },
    "tags": []
   },
   "outputs": [
    {
     "name": "stdout",
     "output_type": "stream",
     "text": [
      "Number of main training files: 68\n"
     ]
    }
   ],
   "source": [
    "trainfiles = os.listdir(train_tfr_path)\n",
    "trainfiles = [f'{train_tfr_path}/{e}' for e in trainfiles]\n",
    "\n",
    "# supp_files = os.listdir(supplemental_tfr_path)\n",
    "# supp_files = [f'{supplemental_tfr_path}/{e}' for e in supp_files]\n",
    "# mixed_train_files = list(chain(*zip(cycle(trainfiles), supp_train_files)))\n",
    "\n",
    "print(f\"Number of main training files: {len(trainfiles)}\")\n",
    "# print(f\"Number of supp training files: {len(supp_files)}\")"
   ]
  },
  {
   "cell_type": "code",
   "execution_count": 10,
   "id": "9cb80d72",
   "metadata": {
    "execution": {
     "iopub.execute_input": "2023-08-18T10:42:40.401236Z",
     "iopub.status.busy": "2023-08-18T10:42:40.400390Z",
     "iopub.status.idle": "2023-08-18T10:42:40.407391Z",
     "shell.execute_reply": "2023-08-18T10:42:40.406528Z"
    },
    "papermill": {
     "duration": 0.023223,
     "end_time": "2023-08-18T10:42:40.409349",
     "exception": false,
     "start_time": "2023-08-18T10:42:40.386126",
     "status": "completed"
    },
    "tags": []
   },
   "outputs": [],
   "source": [
    "def parse_fn(serialized):\n",
    "    # Define the features we want to extract\n",
    "    \n",
    "    # Parse the serialized record using the feature dictionary\n",
    "    parsed = tf.io.parse_sequence_example(serialized, \n",
    "                                          context_features={'phrase': tf.io.VarLenFeature(tf.int64)},\n",
    "                                          sequence_features={col: tf.io.VarLenFeature(tf.float32) for col in selected_cols})\n",
    "    \n",
    "    sequence = ([tf.sparse.to_dense(parsed[1][f]) for f in selected_cols])\n",
    "    sequence = tf.transpose(tf.squeeze(sequence))\n",
    "    \n",
    "    phrase = tf.sparse.to_dense(parsed[0]['phrase'])\n",
    "    phrase = tf.cast(phrase, tf.int32)\n",
    "    \n",
    "    return sequence, phrase"
   ]
  },
  {
   "cell_type": "code",
   "execution_count": 11,
   "id": "663e95c8",
   "metadata": {
    "execution": {
     "iopub.execute_input": "2023-08-18T10:42:40.437127Z",
     "iopub.status.busy": "2023-08-18T10:42:40.436346Z",
     "iopub.status.idle": "2023-08-18T10:42:40.442625Z",
     "shell.execute_reply": "2023-08-18T10:42:40.441755Z"
    },
    "papermill": {
     "duration": 0.022352,
     "end_time": "2023-08-18T10:42:40.444596",
     "exception": false,
     "start_time": "2023-08-18T10:42:40.422244",
     "status": "completed"
    },
    "tags": []
   },
   "outputs": [],
   "source": [
    "batch_size = 32\n",
    "padding_values=(59.0, 59)\n",
    "padded_shapes=([None, 150], [None])\n",
    "\n",
    "def create_dataset(files):\n",
    "    ds = tf.data.TFRecordDataset(files)\n",
    "    ds = (\n",
    "        ds\n",
    "        .map(parse_fn, num_parallel_calls=(tf.data.AUTOTUNE))\n",
    "        .shuffle(batch_size * 100)\n",
    "        .padded_batch(batch_size, padding_values=padding_values, padded_shapes=padded_shapes)\n",
    "        .prefetch(buffer_size=tf.data.AUTOTUNE)\n",
    "    )\n",
    "    \n",
    "    return ds"
   ]
  },
  {
   "cell_type": "code",
   "execution_count": 12,
   "id": "29e0dd68",
   "metadata": {
    "execution": {
     "iopub.execute_input": "2023-08-18T10:42:40.472222Z",
     "iopub.status.busy": "2023-08-18T10:42:40.471469Z",
     "iopub.status.idle": "2023-08-18T10:42:40.479328Z",
     "shell.execute_reply": "2023-08-18T10:42:40.478457Z"
    },
    "papermill": {
     "duration": 0.023792,
     "end_time": "2023-08-18T10:42:40.481409",
     "exception": false,
     "start_time": "2023-08-18T10:42:40.457617",
     "status": "completed"
    },
    "tags": []
   },
   "outputs": [],
   "source": [
    "class Slicer(layers.Layer):\n",
    "    # @tf.function(input_signature=[tf.TensorSpec(shape=[None, None, len(selected_cols)],\n",
    "    #                                             dtype=tf.float32)])\n",
    "    def __init__(self):\n",
    "        super().__init__(name = \"slicer\")\n",
    "    \n",
    "    def call(self, x):\n",
    "        lh, rh, pose = tf.split(x, [42, 42, 66], axis=-1)\n",
    "\n",
    "        hand_shaper = layers.Reshape((-1, 2, 21))\n",
    "        lh = hand_shaper(lh)\n",
    "        lh = tf.transpose(lh, [0, 1, 3, 2])\n",
    "\n",
    "        rh = hand_shaper(rh)\n",
    "        rh = tf.transpose(rh, [0, 1, 3, 2])\n",
    "\n",
    "        pose_shaper = layers.Reshape((-1, 2, 33))\n",
    "        pose = pose_shaper(pose)\n",
    "        pose = tf.transpose(pose, [0, 1, 3, 2])\n",
    "        \n",
    "        return (lh, rh, pose)"
   ]
  },
  {
   "cell_type": "code",
   "execution_count": 13,
   "id": "6e263c3e",
   "metadata": {
    "execution": {
     "iopub.execute_input": "2023-08-18T10:42:40.510039Z",
     "iopub.status.busy": "2023-08-18T10:42:40.509200Z",
     "iopub.status.idle": "2023-08-18T10:42:40.515729Z",
     "shell.execute_reply": "2023-08-18T10:42:40.514908Z"
    },
    "papermill": {
     "duration": 0.022702,
     "end_time": "2023-08-18T10:42:40.517701",
     "exception": false,
     "start_time": "2023-08-18T10:42:40.494999",
     "status": "completed"
    },
    "tags": []
   },
   "outputs": [],
   "source": [
    "def CTCLoss(y_true, y_pred):\n",
    "    # Compute the training-time loss value\n",
    "    batch_len = tf.cast(tf.shape(y_true)[0], dtype=\"int64\")\n",
    "    input_length = tf.cast(tf.shape(y_pred)[1], dtype=\"int64\")\n",
    "    label_length = tf.cast(tf.shape(y_true)[1], dtype=\"int64\")\n",
    "\n",
    "    input_length = input_length * tf.ones(shape=(batch_len, 1), dtype=\"int64\")\n",
    "    label_length = label_length * tf.ones(shape=(batch_len, 1), dtype=\"int64\")\n",
    "\n",
    "    loss = keras.backend.ctc_batch_cost(y_true, y_pred, input_length, label_length)\n",
    "    return loss"
   ]
  },
  {
   "cell_type": "code",
   "execution_count": 14,
   "id": "47910f28",
   "metadata": {
    "execution": {
     "iopub.execute_input": "2023-08-18T10:42:40.545943Z",
     "iopub.status.busy": "2023-08-18T10:42:40.545143Z",
     "iopub.status.idle": "2023-08-18T10:42:40.555973Z",
     "shell.execute_reply": "2023-08-18T10:42:40.555118Z"
    },
    "papermill": {
     "duration": 0.027107,
     "end_time": "2023-08-18T10:42:40.557988",
     "exception": false,
     "start_time": "2023-08-18T10:42:40.530881",
     "status": "completed"
    },
    "tags": []
   },
   "outputs": [],
   "source": [
    "def CTCDecoder():\n",
    "    def decoder(y_pred):\n",
    "        \n",
    "        input_shape = tf.keras.backend.shape(y_pred)\n",
    "        input_length = tf.cast(input_shape[1], tf.int64)\n",
    "\n",
    "        x = y_pred\n",
    "        x = tf.squeeze(tf.math.argmax(x, axis=2))\n",
    "        x = tf.cast(x, tf.int64)\n",
    "        \n",
    "        j0 = tf.constant(0, dtype=tf.int64)\n",
    "\n",
    "        inp0 = tf.cast(x, tf.int64)\n",
    "        pc0 = tf.constant(1000, dtype=tf.int64)\n",
    "        \n",
    "        out0 = tf.ones(shape=[1], dtype=tf.int64) * tf.constant(59, shape=[1], dtype=tf.int64)\n",
    "        \n",
    "        j_pc_inp_out_init = [j0, pc0, inp0, out0] \n",
    "        \n",
    "        cond = lambda j, pc, inp, out: j < input_length\n",
    "        \n",
    "        body = lambda j, pc, inp, out: tf.cond(tf.equal(inp[j],pc), \n",
    "                                               lambda: (j + 1, inp[j], inp, out), \n",
    "                                               lambda: (j + 1, inp[j], inp, tf.concat([out, tf.expand_dims(inp[j], 0)], 0)))\n",
    "\n",
    "        x = tf.while_loop(cond, body, j_pc_inp_out_init, \n",
    "                          shape_invariants=[j0.get_shape(), tf.TensorShape(None), \n",
    "                                            inp0.get_shape(), tf.TensorShape([None])])[3]\n",
    "\n",
    "        x = x[x<59]\n",
    "\n",
    "        x = tf.one_hot(x, 59)\n",
    "        \n",
    "        return x\n",
    "\n",
    "    return tf.keras.layers.Lambda(decoder, name='outputs')"
   ]
  },
  {
   "cell_type": "code",
   "execution_count": 15,
   "id": "78e2a383",
   "metadata": {
    "execution": {
     "iopub.execute_input": "2023-08-18T10:42:40.585515Z",
     "iopub.status.busy": "2023-08-18T10:42:40.585237Z",
     "iopub.status.idle": "2023-08-18T10:42:40.592093Z",
     "shell.execute_reply": "2023-08-18T10:42:40.591203Z"
    },
    "papermill": {
     "duration": 0.023201,
     "end_time": "2023-08-18T10:42:40.594310",
     "exception": false,
     "start_time": "2023-08-18T10:42:40.571109",
     "status": "completed"
    },
    "tags": []
   },
   "outputs": [],
   "source": [
    "def PreProcessor():\n",
    "    @tf.function(input_signature=[tf.TensorSpec(shape=[None, len(selected_cols)],\n",
    "                                                dtype=tf.float32, name='inputs')])\n",
    "    def preprocessor(x):\n",
    "        \n",
    "        x = tf.cast(x, tf.float32)\n",
    "\n",
    "        x = x[None]\n",
    "        \n",
    "        x = tf.cond(tf.shape(x)[1] < 2, \n",
    "            lambda: tf.zeros((1, 2, len(selected_cols))), \n",
    "            lambda: tf.identity(x))\n",
    "\n",
    "        x = x[0]\n",
    "        \n",
    "        x = tf.where(tf.math.is_nan(x), tf.zeros_like(x), x)\n",
    "\n",
    "        x = x[None]\n",
    "        \n",
    "        return x\n",
    "    \n",
    "    return tf.keras.layers.Lambda(preprocessor, name='preprocessor')"
   ]
  },
  {
   "cell_type": "code",
   "execution_count": 16,
   "id": "3f12f3b2",
   "metadata": {
    "execution": {
     "iopub.execute_input": "2023-08-18T10:42:40.621992Z",
     "iopub.status.busy": "2023-08-18T10:42:40.621177Z",
     "iopub.status.idle": "2023-08-18T10:42:40.629464Z",
     "shell.execute_reply": "2023-08-18T10:42:40.628572Z"
    },
    "papermill": {
     "duration": 0.024033,
     "end_time": "2023-08-18T10:42:40.631456",
     "exception": false,
     "start_time": "2023-08-18T10:42:40.607423",
     "status": "completed"
    },
    "tags": []
   },
   "outputs": [],
   "source": [
    "class SpatialConv2D(layers.Layer):\n",
    "    def __init__(self, filters, kernel_size, \n",
    "                 input_shape, name= None):\n",
    "        \n",
    "        super().__init__(name = name)\n",
    "\n",
    "        pad_width = kernel_size[0]\n",
    "        pad_height = kernel_size[1]\n",
    "\n",
    "        self.padding = layers.ZeroPadding2D(padding=(pad_width, pad_height), \n",
    "                                            data_format='channels_last')\n",
    "\n",
    "        self.conv = layers.Conv2D(filters = filters,\n",
    "                                  kernel_size = kernel_size,\n",
    "                                  input_shape = input_shape,\n",
    "                                  strides=1,\n",
    "                                  padding = \"same\",\n",
    "                                  activation = \"relu\")\n",
    "\n",
    "        self.maxpool = layers.MaxPooling2D(pool_size = (1, kernel_size[1]), \n",
    "                                            data_format = 'channels_last', strides=1)\n",
    "\n",
    "        self.filters = filters\n",
    "\n",
    "        self.out_shaper = layers.Reshape((-1, self.filters))\n",
    "\n",
    "    \n",
    "    def call(self, x):\n",
    "        # x = self.padding(x)\n",
    "        \n",
    "        x = self.conv(x)\n",
    "\n",
    "        x = self.maxpool(x)\n",
    "\n",
    "        x = self.out_shaper(x)\n",
    "\n",
    "        return x\n"
   ]
  },
  {
   "cell_type": "code",
   "execution_count": 17,
   "id": "f99aa91c",
   "metadata": {
    "execution": {
     "iopub.execute_input": "2023-08-18T10:42:40.659930Z",
     "iopub.status.busy": "2023-08-18T10:42:40.659261Z",
     "iopub.status.idle": "2023-08-18T10:42:46.838980Z",
     "shell.execute_reply": "2023-08-18T10:42:46.838189Z"
    },
    "papermill": {
     "duration": 6.241843,
     "end_time": "2023-08-18T10:42:46.886732",
     "exception": false,
     "start_time": "2023-08-18T10:42:40.644889",
     "status": "completed"
    },
    "tags": []
   },
   "outputs": [
    {
     "name": "stdout",
     "output_type": "stream",
     "text": [
      "Model: \"DeepASL_p\"\n",
      "______________________________________________________________________________________________________________\n",
      " Layer (type)                       Output Shape            Param #      Connected to                         \n",
      "==============================================================================================================\n",
      " inputs (InputLayer)                [(None, 150)]           0            []                                   \n",
      "                                                                                                              \n",
      " preprocessor (Lambda)              (1, None, 150)          0            ['inputs[0][0]']                     \n",
      "                                                                                                              \n",
      " slicer (Slicer)                    multiple                0            ['preprocessor[0][0]']               \n",
      "                                                                                                              \n",
      " left_hand_conv_1 (SpatialConv2D)   multiple                11008        ['slicer[1][0]']                     \n",
      "                                                                                                              \n",
      " left_hand_conv_2 (SpatialConv2D)   multiple                18880        ['slicer[1][0]']                     \n",
      "                                                                                                              \n",
      " left_hand_conv_3 (SpatialConv2D)   multiple                28256        ['slicer[1][0]']                     \n",
      "                                                                                                              \n",
      " right_hand_conv_1 (SpatialConv2D)  multiple                11008        ['slicer[1][1]']                     \n",
      "                                                                                                              \n",
      " right_hand_conv_2 (SpatialConv2D)  multiple                18880        ['slicer[1][1]']                     \n",
      "                                                                                                              \n",
      " right_hand_conv_3 (SpatialConv2D)  multiple                28256        ['slicer[1][1]']                     \n",
      "                                                                                                              \n",
      " lh_cat (Concatenate)               multiple                0            ['left_hand_conv_1[1][0]',           \n",
      "                                                                          'left_hand_conv_2[1][0]',           \n",
      "                                                                          'left_hand_conv_3[1][0]']           \n",
      "                                                                                                              \n",
      " rh_cat (Concatenate)               multiple                0            ['right_hand_conv_1[1][0]',          \n",
      "                                                                          'right_hand_conv_2[1][0]',          \n",
      "                                                                          'right_hand_conv_3[1][0]']          \n",
      "                                                                                                              \n",
      " pose_conv_1 (SpatialConv2D)        multiple                8576         ['slicer[1][2]']                     \n",
      "                                                                                                              \n",
      " pose_conv_2 (SpatialConv2D)        multiple                14816        ['slicer[1][2]']                     \n",
      "                                                                                                              \n",
      " pose_conv_3 (SpatialConv2D)        multiple                22192        ['slicer[1][2]']                     \n",
      "                                                                                                              \n",
      " maxhand (Maximum)                  multiple                0            ['lh_cat[1][0]',                     \n",
      "                                                                          'rh_cat[1][0]']                     \n",
      "                                                                                                              \n",
      " pose_cat (Concatenate)             multiple                0            ['pose_conv_1[1][0]',                \n",
      "                                                                          'pose_conv_2[1][0]',                \n",
      "                                                                          'pose_conv_3[1][0]']                \n",
      "                                                                                                              \n",
      " cat2 (Concatenate)                 multiple                0            ['maxhand[1][0]',                    \n",
      "                                                                          'pose_cat[1][0]']                   \n",
      "                                                                                                              \n",
      " ln1 (LayerNormalization)           multiple                1056         ['cat2[1][0]']                       \n",
      "                                                                                                              \n",
      " maxpool (MaxPooling1D)             multiple                0            ['ln1[1][0]']                        \n",
      "                                                                                                              \n",
      " rnn_1 (LSTM)                       multiple                2992640      ['maxpool[1][0]']                    \n",
      "                                                                                                              \n",
      " rnn_2 (LSTM)                       multiple                2992640      ['maxpool[1][0]']                    \n",
      "                                                                                                              \n",
      " dropout (Dropout)                  multiple                0            ['rnn_1[1][0]']                      \n",
      "                                                                                                              \n",
      " dropout_1 (Dropout)                multiple                0            ['rnn_2[1][0]']                      \n",
      "                                                                                                              \n",
      " cat3 (Concatenate)                 multiple                0            ['dropout[1][0]',                    \n",
      "                                                                          'dropout_1[1][0]']                  \n",
      "                                                                                                              \n",
      " dense_1 (Dense)                    multiple                3279360      ['cat3[1][0]']                       \n",
      "                                                                                                              \n",
      " dense_1_relu (ReLU)                multiple                0            ['dense_1[1][0]']                    \n",
      "                                                                                                              \n",
      " dropout_2 (Dropout)                multiple                0            ['dense_1_relu[1][0]']               \n",
      "                                                                                                              \n",
      " dense (Dense)                      multiple                153660       ['dropout_2[1][0]']                  \n",
      "                                                                                                              \n",
      " outputs (Lambda)                   (None, 59)              0            ['dense[1][0]']                      \n",
      "                                                                                                              \n",
      "==============================================================================================================\n",
      "Total params: 9,581,228\n",
      "Trainable params: 9,581,228\n",
      "Non-trainable params: 0\n",
      "______________________________________________________________________________________________________________\n"
     ]
    }
   ],
   "source": [
    "def build_model(input_dim, output_dim, rnn_layers=5, rnn_units=128):\n",
    "\n",
    "    input_train = layers.Input((None, input_dim), name=\"inputs_train\")\n",
    "    input_prod = layers.Input((input_dim), name=\"inputs\")\n",
    "    \n",
    "    preprocessor = PreProcessor()\n",
    "    x = input_train\n",
    "    x_p = preprocessor(input_prod)\n",
    "    \n",
    "    slicer = Slicer()\n",
    "    x_l, x_r, x_o = slicer(x)\n",
    "    x_lp, x_rp, x_op = slicer(x_p)\n",
    "\n",
    "    conv_l_1 = SpatialConv2D(filters=256, \n",
    "                           kernel_size=[1, 21],\n",
    "                           input_shape=(None, None, 21, 2),\n",
    "                           name = \"left_hand_conv_1\")\n",
    "    x_l_c1 = conv_l_1(x_l)\n",
    "    x_lp_c1 = conv_l_1(x_lp)\n",
    "\n",
    "    conv_r_1 = SpatialConv2D(filters=256, \n",
    "                           kernel_size=[1, 21],\n",
    "                           input_shape=(None, None, 21, 2),\n",
    "                           name= \"right_hand_conv_1\")\n",
    "    x_r_c1 = conv_r_1(x_r)\n",
    "    x_rp_c1 = conv_r_1(x_rp)\n",
    "\n",
    "    conv_p_1 = SpatialConv2D(filters=128, \n",
    "                           kernel_size=[1, 33],\n",
    "                           input_shape=(None, None, 33, 2),\n",
    "                           name = \"pose_conv_1\")\n",
    "    x_o_c1 = conv_p_1(x_o)\n",
    "    x_op_c1 = conv_p_1(x_op)\n",
    "\n",
    "    # Wide convolutions\n",
    "\n",
    "    conv_l_2 = SpatialConv2D(filters=64, \n",
    "                           kernel_size=[7, 21],\n",
    "                           input_shape=(None, None, 21, 2),\n",
    "                           name = \"left_hand_conv_2\")\n",
    "    x_l_c2 = conv_l_2(x_l)\n",
    "    x_lp_c2 = conv_l_2(x_lp)\n",
    "    \n",
    "    conv_r_2 = SpatialConv2D(filters=64, \n",
    "                           kernel_size=[7, 21],\n",
    "                           input_shape=(None, None, 21, 2),\n",
    "                           name= \"right_hand_conv_2\")\n",
    "    x_r_c2 = conv_r_2(x_r)\n",
    "    x_rp_c2 = conv_r_2(x_rp)\n",
    "\n",
    "    conv_p_2 = SpatialConv2D(filters=32, \n",
    "                           kernel_size=[7, 33],\n",
    "                           input_shape=(None, None, 33, 2),\n",
    "                           name = \"pose_conv_2\")\n",
    "    x_o_c2 = conv_p_2(x_o)\n",
    "    x_op_c2 = conv_p_2(x_op)\n",
    "\n",
    "    \n",
    "    # Even Wider convolutions\n",
    "\n",
    "    conv_l_3 = SpatialConv2D(filters=32, \n",
    "                           kernel_size=[21, 21],\n",
    "                           input_shape=(None, None, 21, 2),\n",
    "                           name = \"left_hand_conv_3\")\n",
    "    x_l_c3 = conv_l_3(x_l)\n",
    "    x_lp_c3 = conv_l_3(x_lp)\n",
    "    \n",
    "    conv_r_3 = SpatialConv2D(filters=32, \n",
    "                           kernel_size=[21, 21],\n",
    "                           input_shape=(None, None, 21, 2),\n",
    "                           name= \"right_hand_conv_3\")\n",
    "    x_r_c3 = conv_r_3(x_r)\n",
    "    x_rp_c3 = conv_r_3(x_rp)\n",
    "\n",
    "    conv_p_3 = SpatialConv2D(filters=16, \n",
    "                           kernel_size=[21, 33],\n",
    "                           input_shape=(None, None, 33, 2),\n",
    "                           name = \"pose_conv_3\")\n",
    "    x_o_c3 = conv_p_3(x_o)\n",
    "    x_op_c3 = conv_p_3(x_op)\n",
    "\n",
    "\n",
    "    # Concatenate convolutional outputs\n",
    "    \n",
    "    lh_cat = layers.Concatenate(name=\"lh_cat\")\n",
    "    x_l = lh_cat([x_l_c1, x_l_c2, x_l_c3])\n",
    "    x_lp = lh_cat([x_lp_c1, x_lp_c2, x_lp_c3])\n",
    "\n",
    "    rh_cat = layers.Concatenate(name=\"rh_cat\")\n",
    "    x_r = rh_cat([x_r_c1, x_r_c2, x_r_c3])\n",
    "    x_rp = rh_cat([x_rp_c1, x_rp_c2, x_rp_c3])\n",
    "\n",
    "    pose_cat = layers.Concatenate(name=\"pose_cat\")\n",
    "    x_o = pose_cat([x_o_c1, x_o_c2, x_o_c3])\n",
    "    x_op = pose_cat([x_op_c1, x_op_c2, x_op_c3])\n",
    "\n",
    "    maxhand = layers.Maximum(name=\"maxhand\")\n",
    "    x_h = maxhand([x_l, x_r])\n",
    "    x_hp = maxhand([x_lp, x_rp])\n",
    "\n",
    "    cat2 = layers.Concatenate(name=\"cat2\")\n",
    "    x = cat2([x_h, x_o])\n",
    "    x_p = cat2([x_hp, x_op])\n",
    "    \n",
    "    n1 = layers.LayerNormalization(name=\"ln1\")\n",
    "    x = n1(x)\n",
    "    x_p = n1(x_p)\n",
    "\n",
    "    maxpool = layers.MaxPooling1D(pool_size=2,\n",
    "                                  name=\"maxpool\")\n",
    "    x = maxpool(x)\n",
    "    x_p = maxpool(x_p)\n",
    "\n",
    "    rnn_outputs = []\n",
    "    rnn_outputs_p = []\n",
    "    \n",
    "    for i in range(1, rnn_layers + 1):\n",
    "        recurrent = layers.LSTM(\n",
    "            units=rnn_units,\n",
    "            activation=\"tanh\",\n",
    "            use_bias=True,\n",
    "            return_sequences=True,\n",
    "            name=f\"rnn_{i}\",\n",
    "        )\n",
    "\n",
    "        rnn_out = recurrent(x)\n",
    "        rnn_out_p = recurrent(x_p)\n",
    "        \n",
    "        do_1 = layers.Dropout(rate=0.1)\n",
    "        rnn_out = do_1(rnn_out)\n",
    "        rnn_out_p = do_1(rnn_out_p)\n",
    "\n",
    "        rnn_outputs.append(rnn_out)\n",
    "        rnn_outputs_p.append(rnn_out_p)\n",
    "\n",
    "    cat3 = layers.Concatenate(name=\"cat3\")\n",
    "    x = cat3(rnn_outputs)\n",
    "    x_p = cat3(rnn_outputs_p)\n",
    "    \n",
    "    # Dense layer\n",
    "    d_1 = layers.Dense(units=(rnn_units * rnn_layers * 2), name=\"dense_1\")\n",
    "    x = d_1(x)\n",
    "    x_p = d_1(x_p)\n",
    "    \n",
    "    relu_d = layers.ReLU(name=\"dense_1_relu\")\n",
    "    x = relu_d(x)\n",
    "    x_p = relu_d(x_p)\n",
    "    \n",
    "    do_2 = layers.Dropout(rate=0.1)\n",
    "    x = do_2(x)\n",
    "    x_p = do_2(x_p)\n",
    "    \n",
    "    # Classification layer\n",
    "    output = layers.Dense(units=output_dim + 1, activation=\"softmax\")\n",
    "    x_o = output(x)\n",
    "    x_op = output(x_p)\n",
    "    \n",
    "    # Model\n",
    "    model = keras.Model(inputs=input_train, outputs=x_o, name=\"DeepASL\")\n",
    "    prod_model = keras.Model(inputs=input_prod, outputs=CTCDecoder()(x_op), name=\"DeepASL_p\")\n",
    "    # Optimizer\n",
    "    lr_schedule = tf.keras.optimizers.schedules.ExponentialDecay(\n",
    "        initial_learning_rate=0.001,\n",
    "        decay_steps=1500,\n",
    "        decay_rate=0.98,\n",
    "        staircase=True\n",
    "    )\n",
    "    opt = keras.optimizers.Adam(learning_rate=lr_schedule)\n",
    "    # Compile the model and return\n",
    "    model.compile(optimizer=opt, loss=CTCLoss)\n",
    "    return model, prod_model\n",
    "\n",
    "\n",
    "# Get the model\n",
    "model, prod_model = build_model(\n",
    "    input_dim=150,\n",
    "    output_dim=len(character_map) - 1,\n",
    "    rnn_units=640,\n",
    "    rnn_layers=2,\n",
    ")\n",
    "\n",
    "prod_model.summary(line_length=110)\n"
   ]
  },
  {
   "cell_type": "code",
   "execution_count": null,
   "id": "7e69812c",
   "metadata": {
    "papermill": {
     "duration": 0.019036,
     "end_time": "2023-08-18T10:42:46.924804",
     "exception": false,
     "start_time": "2023-08-18T10:42:46.905768",
     "status": "completed"
    },
    "tags": []
   },
   "outputs": [],
   "source": []
  },
  {
   "cell_type": "code",
   "execution_count": 18,
   "id": "18295cdf",
   "metadata": {
    "execution": {
     "iopub.execute_input": "2023-08-18T10:42:46.964112Z",
     "iopub.status.busy": "2023-08-18T10:42:46.963751Z",
     "iopub.status.idle": "2023-08-18T10:42:46.968154Z",
     "shell.execute_reply": "2023-08-18T10:42:46.967079Z"
    },
    "papermill": {
     "duration": 0.026945,
     "end_time": "2023-08-18T10:42:46.970480",
     "exception": false,
     "start_time": "2023-08-18T10:42:46.943535",
     "status": "completed"
    },
    "tags": []
   },
   "outputs": [],
   "source": [
    "# plot_model(prod_model, show_layer_names=True, to_file='model.png')\n",
    "# Image('model.png')"
   ]
  },
  {
   "cell_type": "code",
   "execution_count": 19,
   "id": "ebd12ed6",
   "metadata": {
    "execution": {
     "iopub.execute_input": "2023-08-18T10:42:47.012143Z",
     "iopub.status.busy": "2023-08-18T10:42:47.011848Z",
     "iopub.status.idle": "2023-08-18T10:42:47.017834Z",
     "shell.execute_reply": "2023-08-18T10:42:47.016709Z"
    },
    "papermill": {
     "duration": 0.029386,
     "end_time": "2023-08-18T10:42:47.019960",
     "exception": false,
     "start_time": "2023-08-18T10:42:46.990574",
     "status": "completed"
    },
    "tags": []
   },
   "outputs": [],
   "source": [
    "def train_round(trainfiles, epochs=7, start_at=0):\n",
    "    \n",
    "    train_set = create_dataset(trainfiles)\n",
    "    \n",
    "    model.fit(\n",
    "        train_set,\n",
    "        epochs=epochs,\n",
    "        initial_epoch=start_at,\n",
    "        verbose=2\n",
    "    )\n",
    "    \n",
    "    del train_set\n",
    "\n",
    "    keras.backend.clear_session()\n",
    "    tf.compat.v1.reset_default_graph()\n",
    "    gc.collect()\n",
    "\n",
    "    return\n"
   ]
  },
  {
   "cell_type": "code",
   "execution_count": 20,
   "id": "b563f403",
   "metadata": {
    "execution": {
     "iopub.execute_input": "2023-08-18T10:42:47.064095Z",
     "iopub.status.busy": "2023-08-18T10:42:47.063770Z",
     "iopub.status.idle": "2023-08-18T18:36:35.110083Z",
     "shell.execute_reply": "2023-08-18T18:36:35.109078Z"
    },
    "papermill": {
     "duration": 28428.075036,
     "end_time": "2023-08-18T18:36:35.115230",
     "exception": false,
     "start_time": "2023-08-18T10:42:47.040194",
     "status": "completed"
    },
    "tags": []
   },
   "outputs": [
    {
     "name": "stdout",
     "output_type": "stream",
     "text": [
      "Epoch 1/56\n",
      "2022/2022 - 989s - loss: 64.1687 - 989s/epoch - 489ms/step\n",
      "Epoch 2/56\n",
      "2022/2022 - 514s - loss: 48.7952 - 514s/epoch - 254ms/step\n",
      "Epoch 3/56\n",
      "2022/2022 - 500s - loss: 33.1633 - 500s/epoch - 247ms/step\n",
      "Epoch 4/56\n",
      "2022/2022 - 495s - loss: 29.1556 - 495s/epoch - 245ms/step\n",
      "Epoch 5/56\n",
      "2022/2022 - 495s - loss: 27.0992 - 495s/epoch - 245ms/step\n",
      "Epoch 6/56\n",
      "2022/2022 - 497s - loss: 25.5732 - 497s/epoch - 246ms/step\n",
      "Epoch 7/56\n",
      "2022/2022 - 493s - loss: 24.2440 - 493s/epoch - 244ms/step\n",
      "Epoch 8/56\n",
      "2022/2022 - 492s - loss: 23.0834 - 492s/epoch - 243ms/step\n",
      "Epoch 9/56\n",
      "2022/2022 - 495s - loss: 21.9295 - 495s/epoch - 245ms/step\n",
      "Epoch 10/56\n",
      "2022/2022 - 491s - loss: 20.8267 - 491s/epoch - 243ms/step\n",
      "Epoch 11/56\n",
      "2022/2022 - 494s - loss: 19.7570 - 494s/epoch - 245ms/step\n",
      "Epoch 12/56\n",
      "2022/2022 - 493s - loss: 18.6902 - 493s/epoch - 244ms/step\n",
      "Epoch 13/56\n",
      "2022/2022 - 491s - loss: 17.6883 - 491s/epoch - 243ms/step\n",
      "Epoch 14/56\n",
      "2022/2022 - 494s - loss: 16.7761 - 494s/epoch - 244ms/step\n",
      "Epoch 15/56\n",
      "2022/2022 - 495s - loss: 15.8946 - 495s/epoch - 245ms/step\n",
      "Epoch 16/56\n",
      "2022/2022 - 493s - loss: 15.0370 - 493s/epoch - 244ms/step\n",
      "Epoch 17/56\n",
      "2022/2022 - 491s - loss: 14.2539 - 491s/epoch - 243ms/step\n",
      "Epoch 18/56\n",
      "2022/2022 - 490s - loss: 13.5172 - 490s/epoch - 242ms/step\n",
      "Epoch 19/56\n",
      "2022/2022 - 493s - loss: 12.8123 - 493s/epoch - 244ms/step\n",
      "Epoch 20/56\n",
      "2022/2022 - 491s - loss: 12.1712 - 491s/epoch - 243ms/step\n",
      "Epoch 21/56\n",
      "2022/2022 - 491s - loss: 11.5741 - 491s/epoch - 243ms/step\n",
      "Epoch 22/56\n",
      "2022/2022 - 490s - loss: 11.0205 - 490s/epoch - 242ms/step\n",
      "Epoch 23/56\n",
      "2022/2022 - 490s - loss: 10.4792 - 490s/epoch - 242ms/step\n",
      "Epoch 24/56\n",
      "2022/2022 - 491s - loss: 9.9988 - 491s/epoch - 243ms/step\n",
      "Epoch 25/56\n",
      "2022/2022 - 492s - loss: 9.5401 - 492s/epoch - 243ms/step\n",
      "Epoch 26/56\n",
      "2022/2022 - 491s - loss: 9.0901 - 491s/epoch - 243ms/step\n",
      "Epoch 27/56\n",
      "2022/2022 - 489s - loss: 8.7120 - 489s/epoch - 242ms/step\n",
      "Epoch 28/56\n",
      "2022/2022 - 490s - loss: 8.3279 - 490s/epoch - 242ms/step\n",
      "Epoch 29/56\n",
      "2022/2022 - 490s - loss: 7.9632 - 490s/epoch - 242ms/step\n",
      "Epoch 30/56\n",
      "2022/2022 - 491s - loss: 7.6478 - 491s/epoch - 243ms/step\n",
      "Epoch 31/56\n",
      "2022/2022 - 491s - loss: 7.3064 - 491s/epoch - 243ms/step\n",
      "Epoch 32/56\n",
      "2022/2022 - 490s - loss: 7.0309 - 490s/epoch - 242ms/step\n",
      "Epoch 33/56\n",
      "2022/2022 - 489s - loss: 6.7677 - 489s/epoch - 242ms/step\n",
      "Epoch 34/56\n",
      "2022/2022 - 491s - loss: 6.4983 - 491s/epoch - 243ms/step\n",
      "Epoch 35/56\n",
      "2022/2022 - 490s - loss: 6.2335 - 490s/epoch - 243ms/step\n",
      "Epoch 36/56\n",
      "2022/2022 - 490s - loss: 6.0232 - 490s/epoch - 242ms/step\n",
      "Epoch 37/56\n",
      "2022/2022 - 490s - loss: 5.7765 - 490s/epoch - 242ms/step\n",
      "Epoch 38/56\n",
      "2022/2022 - 490s - loss: 5.6051 - 490s/epoch - 243ms/step\n",
      "Epoch 39/56\n",
      "2022/2022 - 489s - loss: 5.3700 - 489s/epoch - 242ms/step\n",
      "Epoch 40/56\n",
      "2022/2022 - 490s - loss: 5.2037 - 490s/epoch - 242ms/step\n",
      "Epoch 41/56\n",
      "2022/2022 - 490s - loss: 5.0171 - 490s/epoch - 243ms/step\n",
      "Epoch 42/56\n",
      "2022/2022 - 489s - loss: 4.8578 - 489s/epoch - 242ms/step\n",
      "Epoch 43/56\n",
      "2022/2022 - 489s - loss: 4.6622 - 489s/epoch - 242ms/step\n",
      "Epoch 44/56\n",
      "2022/2022 - 490s - loss: 4.5329 - 490s/epoch - 242ms/step\n",
      "Epoch 45/56\n",
      "2022/2022 - 487s - loss: 4.3879 - 487s/epoch - 241ms/step\n",
      "Epoch 46/56\n",
      "2022/2022 - 488s - loss: 4.2532 - 488s/epoch - 241ms/step\n",
      "Epoch 47/56\n",
      "2022/2022 - 488s - loss: 4.1294 - 488s/epoch - 242ms/step\n",
      "Epoch 48/56\n",
      "2022/2022 - 489s - loss: 3.9926 - 489s/epoch - 242ms/step\n",
      "Epoch 49/56\n",
      "2022/2022 - 488s - loss: 3.8755 - 488s/epoch - 241ms/step\n",
      "Epoch 50/56\n",
      "2022/2022 - 489s - loss: 3.7603 - 489s/epoch - 242ms/step\n",
      "Epoch 51/56\n",
      "2022/2022 - 489s - loss: 3.6567 - 489s/epoch - 242ms/step\n",
      "Epoch 52/56\n",
      "2022/2022 - 490s - loss: 3.5452 - 490s/epoch - 242ms/step\n",
      "Epoch 53/56\n",
      "2022/2022 - 489s - loss: 3.4385 - 489s/epoch - 242ms/step\n",
      "Epoch 54/56\n",
      "2022/2022 - 488s - loss: 3.3359 - 488s/epoch - 241ms/step\n",
      "Epoch 55/56\n",
      "2022/2022 - 489s - loss: 3.2598 - 489s/epoch - 242ms/step\n",
      "Epoch 56/56\n",
      "2022/2022 - 489s - loss: 3.1794 - 489s/epoch - 242ms/step\n",
      "First round down\n"
     ]
    }
   ],
   "source": [
    "train_round(trainfiles, 56)\n",
    "\n",
    "print(\"First round down\")"
   ]
  },
  {
   "cell_type": "code",
   "execution_count": null,
   "id": "fbcb4537",
   "metadata": {
    "papermill": {
     "duration": 0.026717,
     "end_time": "2023-08-18T18:36:35.170454",
     "exception": false,
     "start_time": "2023-08-18T18:36:35.143737",
     "status": "completed"
    },
    "tags": []
   },
   "outputs": [],
   "source": []
  },
  {
   "cell_type": "code",
   "execution_count": 21,
   "id": "3134c8f1",
   "metadata": {
    "execution": {
     "iopub.execute_input": "2023-08-18T18:36:35.228263Z",
     "iopub.status.busy": "2023-08-18T18:36:35.227933Z",
     "iopub.status.idle": "2023-08-18T18:36:35.239479Z",
     "shell.execute_reply": "2023-08-18T18:36:35.238567Z"
    },
    "papermill": {
     "duration": 0.043961,
     "end_time": "2023-08-18T18:36:35.241570",
     "exception": false,
     "start_time": "2023-08-18T18:36:35.197609",
     "status": "completed"
    },
    "tags": []
   },
   "outputs": [],
   "source": [
    "export_dir = output_path + '/exports'\n",
    "\n",
    "make_path(export_dir)"
   ]
  },
  {
   "cell_type": "code",
   "execution_count": 22,
   "id": "a2260777",
   "metadata": {
    "execution": {
     "iopub.execute_input": "2023-08-18T18:36:35.296920Z",
     "iopub.status.busy": "2023-08-18T18:36:35.296602Z",
     "iopub.status.idle": "2023-08-18T18:36:35.302160Z",
     "shell.execute_reply": "2023-08-18T18:36:35.301262Z"
    },
    "papermill": {
     "duration": 0.035662,
     "end_time": "2023-08-18T18:36:35.304160",
     "exception": false,
     "start_time": "2023-08-18T18:36:35.268498",
     "status": "completed"
    },
    "tags": []
   },
   "outputs": [],
   "source": [
    "# prod_model.save(export_dir)"
   ]
  },
  {
   "cell_type": "code",
   "execution_count": 23,
   "id": "80978009",
   "metadata": {
    "execution": {
     "iopub.execute_input": "2023-08-18T18:36:35.361652Z",
     "iopub.status.busy": "2023-08-18T18:36:35.360687Z",
     "iopub.status.idle": "2023-08-18T18:36:56.968394Z",
     "shell.execute_reply": "2023-08-18T18:36:56.967261Z"
    },
    "papermill": {
     "duration": 21.63931,
     "end_time": "2023-08-18T18:36:56.971009",
     "exception": false,
     "start_time": "2023-08-18T18:36:35.331699",
     "status": "completed"
    },
    "tags": []
   },
   "outputs": [],
   "source": [
    "converter = tf.lite.TFLiteConverter.from_keras_model(prod_model)\n",
    "\n",
    "converter.target_spec.supported_ops = [tf.lite.OpsSet.TFLITE_BUILTINS, \n",
    "                                       tf.lite.OpsSet.SELECT_TF_OPS]\n",
    "\n",
    "tflite_model = converter.convert()"
   ]
  },
  {
   "cell_type": "code",
   "execution_count": 24,
   "id": "cd222e68",
   "metadata": {
    "execution": {
     "iopub.execute_input": "2023-08-18T18:36:57.027290Z",
     "iopub.status.busy": "2023-08-18T18:36:57.026980Z",
     "iopub.status.idle": "2023-08-18T18:36:57.062462Z",
     "shell.execute_reply": "2023-08-18T18:36:57.061512Z"
    },
    "papermill": {
     "duration": 0.066013,
     "end_time": "2023-08-18T18:36:57.064721",
     "exception": false,
     "start_time": "2023-08-18T18:36:56.998708",
     "status": "completed"
    },
    "tags": []
   },
   "outputs": [],
   "source": [
    "tflite_file = f'model.tflite'\n",
    "\n",
    "with open(tflite_file, 'wb') as f:\n",
    "    f.write(tflite_model)"
   ]
  },
  {
   "cell_type": "code",
   "execution_count": 25,
   "id": "54924bfe",
   "metadata": {
    "execution": {
     "iopub.execute_input": "2023-08-18T18:36:57.120033Z",
     "iopub.status.busy": "2023-08-18T18:36:57.119710Z",
     "iopub.status.idle": "2023-08-18T18:36:57.162851Z",
     "shell.execute_reply": "2023-08-18T18:36:57.161893Z"
    },
    "papermill": {
     "duration": 0.07315,
     "end_time": "2023-08-18T18:36:57.165162",
     "exception": false,
     "start_time": "2023-08-18T18:36:57.092012",
     "status": "completed"
    },
    "tags": []
   },
   "outputs": [
    {
     "name": "stdout",
     "output_type": "stream",
     "text": [
      "{'serving_default': {'inputs': ['inputs'], 'outputs': ['outputs']}}\n"
     ]
    }
   ],
   "source": [
    "interpreter = tf.lite.Interpreter(model_content=tflite_model)\n",
    "signatures = interpreter.get_signature_list()\n",
    "print(signatures)"
   ]
  },
  {
   "cell_type": "code",
   "execution_count": 26,
   "id": "839696a4",
   "metadata": {
    "execution": {
     "iopub.execute_input": "2023-08-18T18:36:57.220242Z",
     "iopub.status.busy": "2023-08-18T18:36:57.219948Z",
     "iopub.status.idle": "2023-08-18T18:36:57.226563Z",
     "shell.execute_reply": "2023-08-18T18:36:57.225654Z"
    },
    "papermill": {
     "duration": 0.036503,
     "end_time": "2023-08-18T18:36:57.228566",
     "exception": false,
     "start_time": "2023-08-18T18:36:57.192063",
     "status": "completed"
    },
    "tags": []
   },
   "outputs": [],
   "source": [
    "infargs = {\"selected_columns\" : selected_cols}\n",
    "infargs_file = 'inference_args.json'\n",
    "\n",
    "with open(infargs_file, \"w\") as json_file:\n",
    "    json.dump(infargs, json_file)"
   ]
  },
  {
   "cell_type": "code",
   "execution_count": 27,
   "id": "6cd0405e",
   "metadata": {
    "execution": {
     "iopub.execute_input": "2023-08-18T18:36:57.283491Z",
     "iopub.status.busy": "2023-08-18T18:36:57.283209Z",
     "iopub.status.idle": "2023-08-18T18:36:57.288062Z",
     "shell.execute_reply": "2023-08-18T18:36:57.287147Z"
    },
    "papermill": {
     "duration": 0.035389,
     "end_time": "2023-08-18T18:36:57.290724",
     "exception": false,
     "start_time": "2023-08-18T18:36:57.255335",
     "status": "completed"
    },
    "tags": []
   },
   "outputs": [
    {
     "name": "stdout",
     "output_type": "stream",
     "text": [
      "model.tflite\n",
      "inference_args.json\n"
     ]
    }
   ],
   "source": [
    "print(tflite_file)\n",
    "print(infargs_file)"
   ]
  },
  {
   "cell_type": "code",
   "execution_count": 28,
   "id": "a53b80de",
   "metadata": {
    "execution": {
     "iopub.execute_input": "2023-08-18T18:36:57.346447Z",
     "iopub.status.busy": "2023-08-18T18:36:57.346143Z",
     "iopub.status.idle": "2023-08-18T18:37:00.553363Z",
     "shell.execute_reply": "2023-08-18T18:37:00.552148Z"
    },
    "papermill": {
     "duration": 3.23772,
     "end_time": "2023-08-18T18:37:00.555850",
     "exception": false,
     "start_time": "2023-08-18T18:36:57.318130",
     "status": "completed"
    },
    "tags": []
   },
   "outputs": [
    {
     "name": "stdout",
     "output_type": "stream",
     "text": [
      "  adding: model.tflite (deflated 7%)\r\n",
      "  adding: inference_args.json (deflated 83%)\r\n"
     ]
    }
   ],
   "source": [
    "!zip submission.zip 'model.tflite' 'inference_args.json'"
   ]
  },
  {
   "cell_type": "code",
   "execution_count": null,
   "id": "c578530d",
   "metadata": {
    "papermill": {
     "duration": 0.027324,
     "end_time": "2023-08-18T18:37:00.611540",
     "exception": false,
     "start_time": "2023-08-18T18:37:00.584216",
     "status": "completed"
    },
    "tags": []
   },
   "outputs": [],
   "source": []
  }
 ],
 "metadata": {
  "kernelspec": {
   "display_name": "Python 3",
   "language": "python",
   "name": "python3"
  },
  "language_info": {
   "codemirror_mode": {
    "name": "ipython",
    "version": 3
   },
   "file_extension": ".py",
   "mimetype": "text/x-python",
   "name": "python",
   "nbconvert_exporter": "python",
   "pygments_lexer": "ipython3",
   "version": "3.10.12"
  },
  "papermill": {
   "default_parameters": {},
   "duration": 29737.143023,
   "end_time": "2023-08-18T18:37:03.867971",
   "environment_variables": {},
   "exception": null,
   "input_path": "__notebook__.ipynb",
   "output_path": "__notebook__.ipynb",
   "parameters": {},
   "start_time": "2023-08-18T10:21:26.724948",
   "version": "2.4.0"
  }
 },
 "nbformat": 4,
 "nbformat_minor": 5
}
